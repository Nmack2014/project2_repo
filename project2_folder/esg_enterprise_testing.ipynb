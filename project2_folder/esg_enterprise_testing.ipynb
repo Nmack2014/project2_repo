{
 "cells": [
  {
   "cell_type": "code",
   "execution_count": 9,
   "id": "8899acea",
   "metadata": {},
   "outputs": [],
   "source": [
    "import requests\n",
    "import json"
   ]
  },
  {
   "cell_type": "code",
   "execution_count": 10,
   "id": "e461cb77",
   "metadata": {},
   "outputs": [],
   "source": [
    "from pprint import pprint"
   ]
  },
  {
   "cell_type": "code",
   "execution_count": 11,
   "id": "8ad51e86",
   "metadata": {},
   "outputs": [],
   "source": [
    "api_code = \"220ebf0015f8d36444425303f1d74117\""
   ]
  },
  {
   "cell_type": "code",
   "execution_count": 25,
   "id": "62d4fa8c",
   "metadata": {},
   "outputs": [],
   "source": [
    "url = \"https://tf689y3hbj.execute-api.us-east-1.amazonaws.com/prod/authorization/goals?q=tesla&token=220ebf0015f8d36444425303f1d74117\""
   ]
  },
  {
   "cell_type": "code",
   "execution_count": null,
   "id": "a42ddf7b",
   "metadata": {},
   "outputs": [],
   "source": [
    "\n"
   ]
  },
  {
   "cell_type": "code",
   "execution_count": 26,
   "id": "8d6bee78",
   "metadata": {},
   "outputs": [],
   "source": [
    "response = requests.get(url)"
   ]
  },
  {
   "cell_type": "code",
   "execution_count": 27,
   "id": "ae96f0a1",
   "metadata": {},
   "outputs": [
    {
     "name": "stdout",
     "output_type": "stream",
     "text": [
      "[{'company_name': 'Tesla, Inc.',\n",
      "  'disclaimer': 'ESG Enterprise\\'s ESG Rating data (\"Scores\") are all based on '\n",
      "                'public information and provided for informational purposes '\n",
      "                'only. No member of ESG Enterprise or related parties make any '\n",
      "                'prediction, warranty or representation whatsoever, expressly '\n",
      "                'or impliedly, either as to the suitability of our Scores for '\n",
      "                'any particular purposes or the validity of any derivative '\n",
      "                'analysis or conclusion based on the Scores.',\n",
      "  'esg_id': 7009,\n",
      "  'exchange_symbol': 'NASDAQ',\n",
      "  'goals': [{'sasb': 'Energy Management - SASB',\n",
      "             'score': 2.0,\n",
      "             'sdg': 'Industry, Innovation & Infrastructure - U.N. SDG',\n",
      "             'timestamp': '2021-08-03T04:00:00Z'},\n",
      "            {'sasb': 'Physical Impacts of Climate Change - SASB',\n",
      "             'score': 3.0,\n",
      "             'sdg': 'Affordable & Clean Energy - U.N. SDG',\n",
      "             'timestamp': '2021-08-03T04:00:00Z'},\n",
      "            {'sasb': 'Management of the Legal & Regulatory Environment - SASB',\n",
      "             'score': 5.0,\n",
      "             'sdg': 'Responsible Consumption & Production - U.N. SDG',\n",
      "             'timestamp': '2021-08-03T04:00:00Z'},\n",
      "            {'sasb': 'Business Ethics - SASB',\n",
      "             'score': 15.0,\n",
      "             'sdg': 'Climate Action - U.N. SDG',\n",
      "             'timestamp': '2021-08-03T04:00:00Z'},\n",
      "            {'sasb': 'Physical Impacts of Climate Change - SASB',\n",
      "             'score': 5.0,\n",
      "             'sdg': 'Climate Action - U.N. SDG',\n",
      "             'timestamp': '2021-08-03T04:00:00Z'},\n",
      "            {'sasb': 'Physical Impacts of Climate Change - SASB',\n",
      "             'score': 5.0,\n",
      "             'sdg': 'Sustainable Cities & Communities - U.N. SDG',\n",
      "             'timestamp': '2021-08-03T04:00:00Z'},\n",
      "            {'sasb': 'Energy Management - SASB',\n",
      "             'score': 2.0,\n",
      "             'sdg': 'Industry, Innovation & Infrastructure - U.N. SDG',\n",
      "             'timestamp': '2021-08-03T04:00:00Z'},\n",
      "            {'sasb': 'Physical Impacts of Climate Change - SASB',\n",
      "             'score': 3.0,\n",
      "             'sdg': 'Affordable & Clean Energy - U.N. SDG',\n",
      "             'timestamp': '2021-08-03T04:00:00Z'},\n",
      "            {'sasb': 'Management of the Legal & Regulatory Environment - SASB',\n",
      "             'score': 5.0,\n",
      "             'sdg': 'Responsible Consumption & Production - U.N. SDG',\n",
      "             'timestamp': '2021-08-03T04:00:00Z'},\n",
      "            {'sasb': 'Business Ethics - SASB',\n",
      "             'score': 15.0,\n",
      "             'sdg': 'Climate Action - U.N. SDG',\n",
      "             'timestamp': '2021-08-03T04:00:00Z'},\n",
      "            {'sasb': 'Physical Impacts of Climate Change - SASB',\n",
      "             'score': 5.0,\n",
      "             'sdg': 'Climate Action - U.N. SDG',\n",
      "             'timestamp': '2021-08-03T04:00:00Z'},\n",
      "            {'sasb': 'Physical Impacts of Climate Change - SASB',\n",
      "             'score': 5.0,\n",
      "             'sdg': 'Sustainable Cities & Communities - U.N. SDG',\n",
      "             'timestamp': '2021-08-03T04:00:00Z'},\n",
      "            {'sasb': 'Product Design & Lifecycle Management - SASB',\n",
      "             'score': 1.0,\n",
      "             'sdg': 'Industry, Innovation & Infrastructure - U.N. SDG',\n",
      "             'timestamp': '2021-08-03T01:00:26Z'},\n",
      "            {'sasb': 'Air Quality - SASB',\n",
      "             'score': 7.0,\n",
      "             'sdg': 'Life Below Water - U.N. SDG',\n",
      "             'timestamp': '2021-08-02T23:30:25Z'},\n",
      "            {'sasb': 'Product Design & Lifecycle Management - SASB',\n",
      "             'score': 1.0,\n",
      "             'sdg': 'Industry, Innovation & Infrastructure - U.N. SDG',\n",
      "             'timestamp': '2021-08-03T04:30:00Z'},\n",
      "            {'sasb': 'Energy Management - SASB',\n",
      "             'score': 2.0,\n",
      "             'sdg': 'Industry, Innovation & Infrastructure - U.N. SDG',\n",
      "             'timestamp': '2021-08-03T01:35:00Z'},\n",
      "            {'sasb': 'Air Quality - SASB',\n",
      "             'score': 3.0,\n",
      "             'sdg': 'Affordable & Clean Energy - U.N. SDG',\n",
      "             'timestamp': '2021-08-02T23:30:25Z'},\n",
      "            {'sasb': 'Product Design & Lifecycle Management - SASB',\n",
      "             'score': 1.0,\n",
      "             'sdg': 'Industry, Innovation & Infrastructure - U.N. SDG',\n",
      "             'timestamp': '2021-08-03T01:35:00Z'},\n",
      "            {'sasb': 'Product Design & Lifecycle Management - SASB',\n",
      "             'score': 1.0,\n",
      "             'sdg': 'Industry, Innovation & Infrastructure - U.N. SDG',\n",
      "             'timestamp': '2021-08-03T01:35:00Z'},\n",
      "            {'sasb': 'Physical Impacts of Climate Change - SASB',\n",
      "             'score': 3.0,\n",
      "             'sdg': 'Affordable & Clean Energy - U.N. SDG',\n",
      "             'timestamp': '2021-08-03T01:35:00Z'},\n",
      "            {'sasb': 'Physical Impacts of Climate Change - SASB',\n",
      "             'score': 5.0,\n",
      "             'sdg': 'Climate Action - U.N. SDG',\n",
      "             'timestamp': '2021-08-02T23:30:25Z'}],\n",
      "  'stock_symbol': 'TSLA'}]\n"
     ]
    }
   ],
   "source": [
    "data = response.json()\n",
    "pprint(data)"
   ]
  },
  {
   "cell_type": "code",
   "execution_count": null,
   "id": "02bb9b9b",
   "metadata": {},
   "outputs": [],
   "source": []
  },
  {
   "cell_type": "code",
   "execution_count": null,
   "id": "46ed73e8",
   "metadata": {},
   "outputs": [],
   "source": []
  }
 ],
 "metadata": {
  "kernelspec": {
   "display_name": "Python 3",
   "language": "python",
   "name": "python3"
  },
  "language_info": {
   "codemirror_mode": {
    "name": "ipython",
    "version": 3
   },
   "file_extension": ".py",
   "mimetype": "text/x-python",
   "name": "python",
   "nbconvert_exporter": "python",
   "pygments_lexer": "ipython3",
   "version": "3.8.8"
  }
 },
 "nbformat": 4,
 "nbformat_minor": 5
}
